{
  "cells": [
    {
      "cell_type": "markdown",
      "id": "ce53155d",
      "metadata": {
        "id": "ce53155d"
      },
      "source": [
        "## 1. Pré-processamento\n",
        "\n",
        "* Dataset usado: https://www.kaggle.com/datasets/saurabhshahane/fake-news-classification\n",
        "* 0 é fake e 1 é real"
      ]
    },
    {
      "cell_type": "code",
      "execution_count": null,
      "id": "3cde16e1",
      "metadata": {
        "id": "3cde16e1",
        "outputId": "52f92bd8-2685-47ee-e237-0cd3633b56b2",
        "colab": {
          "base_uri": "https://localhost:8080/"
        }
      },
      "outputs": [
        {
          "output_type": "execute_result",
          "data": {
            "text/plain": [
              "('1.5.3', '1.2.2')"
            ]
          },
          "metadata": {},
          "execution_count": 4
        }
      ],
      "source": [
        "import pandas as pd\n",
        "import sklearn as sk\n",
        "\n",
        "# Exibe a versão do pandas e sklearn\n",
        "pd.__version__, sk.__version__"
      ]
    },
    {
      "cell_type": "markdown",
      "id": "df258b64",
      "metadata": {
        "id": "df258b64"
      },
      "source": [
        "### Lê a base de dados e a exibe"
      ]
    },
    {
      "cell_type": "code",
      "execution_count": null,
      "id": "7649ca6b",
      "metadata": {
        "id": "7649ca6b",
        "outputId": "6ec82316-1886-4ae6-9d6d-e1580837075a",
        "colab": {
          "base_uri": "https://localhost:8080/",
          "height": 250
        }
      },
      "outputs": [
        {
          "output_type": "execute_result",
          "data": {
            "text/plain": [
              "   Unnamed: 0                                              title  \\\n",
              "0           0  LAW ENFORCEMENT ON HIGH ALERT Following Threat...   \n",
              "1           1                                                NaN   \n",
              "2           2  UNBELIEVABLE! OBAMA’S ATTORNEY GENERAL SAYS MO...   \n",
              "3           3  Bobby Jindal, raised Hindu, uses story of Chri...   \n",
              "4           4  SATAN 2: Russia unvelis an image of its terrif...   \n",
              "\n",
              "                                                text  label  \n",
              "0  No comment is expected from Barack Obama Membe...      1  \n",
              "1     Did they post their votes for Hillary already?      1  \n",
              "2   Now, most of the demonstrators gathered last ...      1  \n",
              "3  A dozen politically active pastors came here f...      0  \n",
              "4  The RS-28 Sarmat missile, dubbed Satan 2, will...      1  "
            ],
            "text/html": [
              "\n",
              "  <div id=\"df-71d8c4e0-daa6-42ac-b0ce-b9cf04ca929b\">\n",
              "    <div class=\"colab-df-container\">\n",
              "      <div>\n",
              "<style scoped>\n",
              "    .dataframe tbody tr th:only-of-type {\n",
              "        vertical-align: middle;\n",
              "    }\n",
              "\n",
              "    .dataframe tbody tr th {\n",
              "        vertical-align: top;\n",
              "    }\n",
              "\n",
              "    .dataframe thead th {\n",
              "        text-align: right;\n",
              "    }\n",
              "</style>\n",
              "<table border=\"1\" class=\"dataframe\">\n",
              "  <thead>\n",
              "    <tr style=\"text-align: right;\">\n",
              "      <th></th>\n",
              "      <th>Unnamed: 0</th>\n",
              "      <th>title</th>\n",
              "      <th>text</th>\n",
              "      <th>label</th>\n",
              "    </tr>\n",
              "  </thead>\n",
              "  <tbody>\n",
              "    <tr>\n",
              "      <th>0</th>\n",
              "      <td>0</td>\n",
              "      <td>LAW ENFORCEMENT ON HIGH ALERT Following Threat...</td>\n",
              "      <td>No comment is expected from Barack Obama Membe...</td>\n",
              "      <td>1</td>\n",
              "    </tr>\n",
              "    <tr>\n",
              "      <th>1</th>\n",
              "      <td>1</td>\n",
              "      <td>NaN</td>\n",
              "      <td>Did they post their votes for Hillary already?</td>\n",
              "      <td>1</td>\n",
              "    </tr>\n",
              "    <tr>\n",
              "      <th>2</th>\n",
              "      <td>2</td>\n",
              "      <td>UNBELIEVABLE! OBAMA’S ATTORNEY GENERAL SAYS MO...</td>\n",
              "      <td>Now, most of the demonstrators gathered last ...</td>\n",
              "      <td>1</td>\n",
              "    </tr>\n",
              "    <tr>\n",
              "      <th>3</th>\n",
              "      <td>3</td>\n",
              "      <td>Bobby Jindal, raised Hindu, uses story of Chri...</td>\n",
              "      <td>A dozen politically active pastors came here f...</td>\n",
              "      <td>0</td>\n",
              "    </tr>\n",
              "    <tr>\n",
              "      <th>4</th>\n",
              "      <td>4</td>\n",
              "      <td>SATAN 2: Russia unvelis an image of its terrif...</td>\n",
              "      <td>The RS-28 Sarmat missile, dubbed Satan 2, will...</td>\n",
              "      <td>1</td>\n",
              "    </tr>\n",
              "  </tbody>\n",
              "</table>\n",
              "</div>\n",
              "      <button class=\"colab-df-convert\" onclick=\"convertToInteractive('df-71d8c4e0-daa6-42ac-b0ce-b9cf04ca929b')\"\n",
              "              title=\"Convert this dataframe to an interactive table.\"\n",
              "              style=\"display:none;\">\n",
              "        \n",
              "  <svg xmlns=\"http://www.w3.org/2000/svg\" height=\"24px\"viewBox=\"0 0 24 24\"\n",
              "       width=\"24px\">\n",
              "    <path d=\"M0 0h24v24H0V0z\" fill=\"none\"/>\n",
              "    <path d=\"M18.56 5.44l.94 2.06.94-2.06 2.06-.94-2.06-.94-.94-2.06-.94 2.06-2.06.94zm-11 1L8.5 8.5l.94-2.06 2.06-.94-2.06-.94L8.5 2.5l-.94 2.06-2.06.94zm10 10l.94 2.06.94-2.06 2.06-.94-2.06-.94-.94-2.06-.94 2.06-2.06.94z\"/><path d=\"M17.41 7.96l-1.37-1.37c-.4-.4-.92-.59-1.43-.59-.52 0-1.04.2-1.43.59L10.3 9.45l-7.72 7.72c-.78.78-.78 2.05 0 2.83L4 21.41c.39.39.9.59 1.41.59.51 0 1.02-.2 1.41-.59l7.78-7.78 2.81-2.81c.8-.78.8-2.07 0-2.86zM5.41 20L4 18.59l7.72-7.72 1.47 1.35L5.41 20z\"/>\n",
              "  </svg>\n",
              "      </button>\n",
              "      \n",
              "  <style>\n",
              "    .colab-df-container {\n",
              "      display:flex;\n",
              "      flex-wrap:wrap;\n",
              "      gap: 12px;\n",
              "    }\n",
              "\n",
              "    .colab-df-convert {\n",
              "      background-color: #E8F0FE;\n",
              "      border: none;\n",
              "      border-radius: 50%;\n",
              "      cursor: pointer;\n",
              "      display: none;\n",
              "      fill: #1967D2;\n",
              "      height: 32px;\n",
              "      padding: 0 0 0 0;\n",
              "      width: 32px;\n",
              "    }\n",
              "\n",
              "    .colab-df-convert:hover {\n",
              "      background-color: #E2EBFA;\n",
              "      box-shadow: 0px 1px 2px rgba(60, 64, 67, 0.3), 0px 1px 3px 1px rgba(60, 64, 67, 0.15);\n",
              "      fill: #174EA6;\n",
              "    }\n",
              "\n",
              "    [theme=dark] .colab-df-convert {\n",
              "      background-color: #3B4455;\n",
              "      fill: #D2E3FC;\n",
              "    }\n",
              "\n",
              "    [theme=dark] .colab-df-convert:hover {\n",
              "      background-color: #434B5C;\n",
              "      box-shadow: 0px 1px 3px 1px rgba(0, 0, 0, 0.15);\n",
              "      filter: drop-shadow(0px 1px 2px rgba(0, 0, 0, 0.3));\n",
              "      fill: #FFFFFF;\n",
              "    }\n",
              "  </style>\n",
              "\n",
              "      <script>\n",
              "        const buttonEl =\n",
              "          document.querySelector('#df-71d8c4e0-daa6-42ac-b0ce-b9cf04ca929b button.colab-df-convert');\n",
              "        buttonEl.style.display =\n",
              "          google.colab.kernel.accessAllowed ? 'block' : 'none';\n",
              "\n",
              "        async function convertToInteractive(key) {\n",
              "          const element = document.querySelector('#df-71d8c4e0-daa6-42ac-b0ce-b9cf04ca929b');\n",
              "          const dataTable =\n",
              "            await google.colab.kernel.invokeFunction('convertToInteractive',\n",
              "                                                     [key], {});\n",
              "          if (!dataTable) return;\n",
              "\n",
              "          const docLinkHtml = 'Like what you see? Visit the ' +\n",
              "            '<a target=\"_blank\" href=https://colab.research.google.com/notebooks/data_table.ipynb>data table notebook</a>'\n",
              "            + ' to learn more about interactive tables.';\n",
              "          element.innerHTML = '';\n",
              "          dataTable['output_type'] = 'display_data';\n",
              "          await google.colab.output.renderOutput(dataTable, element);\n",
              "          const docLink = document.createElement('div');\n",
              "          docLink.innerHTML = docLinkHtml;\n",
              "          element.appendChild(docLink);\n",
              "        }\n",
              "      </script>\n",
              "    </div>\n",
              "  </div>\n",
              "  "
            ]
          },
          "metadata": {},
          "execution_count": 15
        }
      ],
      "source": [
        "# Lê o arquivo CSV em um DataFrame do pandas\n",
        "df = pd.read_csv('WELFake_Dataset.csv')\n",
        "\n",
        "# Exibe as primeiras linhas do DataFrame\n",
        "df.head()"
      ]
    },
    {
      "cell_type": "markdown",
      "id": "53ed553f",
      "metadata": {
        "id": "53ed553f"
      },
      "source": [
        "### Remove a primeira coluna do dataframe"
      ]
    },
    {
      "cell_type": "code",
      "execution_count": null,
      "id": "43e2c15c",
      "metadata": {
        "id": "43e2c15c"
      },
      "outputs": [],
      "source": [
        "# A função \"drop\" remove uma coluna (ou linha) de um DataFrame\n",
        "# \"df.columns[0]\" seleciona a primeira coluna do DataFrame\n",
        "# \"axis=1\" especifica que queremos remover uma coluna, não uma linha (o valor 1 significa coluna, enquanto o valor 0 significa linha)\n",
        "\n",
        "df = df.drop(df.columns[0], axis=1)\n",
        "# A remoção não afeta o DataFrame original, então atribuímos o resultado de volta a \"df\""
      ]
    },
    {
      "cell_type": "code",
      "execution_count": null,
      "id": "6dc89f27",
      "metadata": {
        "id": "6dc89f27",
        "outputId": "febeb004-5aec-4c5e-f12d-8e40952d616f",
        "colab": {
          "base_uri": "https://localhost:8080/",
          "height": 206
        }
      },
      "outputs": [
        {
          "output_type": "execute_result",
          "data": {
            "text/plain": [
              "                                               title  \\\n",
              "0  LAW ENFORCEMENT ON HIGH ALERT Following Threat...   \n",
              "1                                                NaN   \n",
              "2  UNBELIEVABLE! OBAMA’S ATTORNEY GENERAL SAYS MO...   \n",
              "3  Bobby Jindal, raised Hindu, uses story of Chri...   \n",
              "4  SATAN 2: Russia unvelis an image of its terrif...   \n",
              "\n",
              "                                                text  label  \n",
              "0  No comment is expected from Barack Obama Membe...      1  \n",
              "1     Did they post their votes for Hillary already?      1  \n",
              "2   Now, most of the demonstrators gathered last ...      1  \n",
              "3  A dozen politically active pastors came here f...      0  \n",
              "4  The RS-28 Sarmat missile, dubbed Satan 2, will...      1  "
            ],
            "text/html": [
              "\n",
              "  <div id=\"df-12ca1f75-bd6d-47a5-8ff5-fd4846a2c59f\">\n",
              "    <div class=\"colab-df-container\">\n",
              "      <div>\n",
              "<style scoped>\n",
              "    .dataframe tbody tr th:only-of-type {\n",
              "        vertical-align: middle;\n",
              "    }\n",
              "\n",
              "    .dataframe tbody tr th {\n",
              "        vertical-align: top;\n",
              "    }\n",
              "\n",
              "    .dataframe thead th {\n",
              "        text-align: right;\n",
              "    }\n",
              "</style>\n",
              "<table border=\"1\" class=\"dataframe\">\n",
              "  <thead>\n",
              "    <tr style=\"text-align: right;\">\n",
              "      <th></th>\n",
              "      <th>title</th>\n",
              "      <th>text</th>\n",
              "      <th>label</th>\n",
              "    </tr>\n",
              "  </thead>\n",
              "  <tbody>\n",
              "    <tr>\n",
              "      <th>0</th>\n",
              "      <td>LAW ENFORCEMENT ON HIGH ALERT Following Threat...</td>\n",
              "      <td>No comment is expected from Barack Obama Membe...</td>\n",
              "      <td>1</td>\n",
              "    </tr>\n",
              "    <tr>\n",
              "      <th>1</th>\n",
              "      <td>NaN</td>\n",
              "      <td>Did they post their votes for Hillary already?</td>\n",
              "      <td>1</td>\n",
              "    </tr>\n",
              "    <tr>\n",
              "      <th>2</th>\n",
              "      <td>UNBELIEVABLE! OBAMA’S ATTORNEY GENERAL SAYS MO...</td>\n",
              "      <td>Now, most of the demonstrators gathered last ...</td>\n",
              "      <td>1</td>\n",
              "    </tr>\n",
              "    <tr>\n",
              "      <th>3</th>\n",
              "      <td>Bobby Jindal, raised Hindu, uses story of Chri...</td>\n",
              "      <td>A dozen politically active pastors came here f...</td>\n",
              "      <td>0</td>\n",
              "    </tr>\n",
              "    <tr>\n",
              "      <th>4</th>\n",
              "      <td>SATAN 2: Russia unvelis an image of its terrif...</td>\n",
              "      <td>The RS-28 Sarmat missile, dubbed Satan 2, will...</td>\n",
              "      <td>1</td>\n",
              "    </tr>\n",
              "  </tbody>\n",
              "</table>\n",
              "</div>\n",
              "      <button class=\"colab-df-convert\" onclick=\"convertToInteractive('df-12ca1f75-bd6d-47a5-8ff5-fd4846a2c59f')\"\n",
              "              title=\"Convert this dataframe to an interactive table.\"\n",
              "              style=\"display:none;\">\n",
              "        \n",
              "  <svg xmlns=\"http://www.w3.org/2000/svg\" height=\"24px\"viewBox=\"0 0 24 24\"\n",
              "       width=\"24px\">\n",
              "    <path d=\"M0 0h24v24H0V0z\" fill=\"none\"/>\n",
              "    <path d=\"M18.56 5.44l.94 2.06.94-2.06 2.06-.94-2.06-.94-.94-2.06-.94 2.06-2.06.94zm-11 1L8.5 8.5l.94-2.06 2.06-.94-2.06-.94L8.5 2.5l-.94 2.06-2.06.94zm10 10l.94 2.06.94-2.06 2.06-.94-2.06-.94-.94-2.06-.94 2.06-2.06.94z\"/><path d=\"M17.41 7.96l-1.37-1.37c-.4-.4-.92-.59-1.43-.59-.52 0-1.04.2-1.43.59L10.3 9.45l-7.72 7.72c-.78.78-.78 2.05 0 2.83L4 21.41c.39.39.9.59 1.41.59.51 0 1.02-.2 1.41-.59l7.78-7.78 2.81-2.81c.8-.78.8-2.07 0-2.86zM5.41 20L4 18.59l7.72-7.72 1.47 1.35L5.41 20z\"/>\n",
              "  </svg>\n",
              "      </button>\n",
              "      \n",
              "  <style>\n",
              "    .colab-df-container {\n",
              "      display:flex;\n",
              "      flex-wrap:wrap;\n",
              "      gap: 12px;\n",
              "    }\n",
              "\n",
              "    .colab-df-convert {\n",
              "      background-color: #E8F0FE;\n",
              "      border: none;\n",
              "      border-radius: 50%;\n",
              "      cursor: pointer;\n",
              "      display: none;\n",
              "      fill: #1967D2;\n",
              "      height: 32px;\n",
              "      padding: 0 0 0 0;\n",
              "      width: 32px;\n",
              "    }\n",
              "\n",
              "    .colab-df-convert:hover {\n",
              "      background-color: #E2EBFA;\n",
              "      box-shadow: 0px 1px 2px rgba(60, 64, 67, 0.3), 0px 1px 3px 1px rgba(60, 64, 67, 0.15);\n",
              "      fill: #174EA6;\n",
              "    }\n",
              "\n",
              "    [theme=dark] .colab-df-convert {\n",
              "      background-color: #3B4455;\n",
              "      fill: #D2E3FC;\n",
              "    }\n",
              "\n",
              "    [theme=dark] .colab-df-convert:hover {\n",
              "      background-color: #434B5C;\n",
              "      box-shadow: 0px 1px 3px 1px rgba(0, 0, 0, 0.15);\n",
              "      filter: drop-shadow(0px 1px 2px rgba(0, 0, 0, 0.3));\n",
              "      fill: #FFFFFF;\n",
              "    }\n",
              "  </style>\n",
              "\n",
              "      <script>\n",
              "        const buttonEl =\n",
              "          document.querySelector('#df-12ca1f75-bd6d-47a5-8ff5-fd4846a2c59f button.colab-df-convert');\n",
              "        buttonEl.style.display =\n",
              "          google.colab.kernel.accessAllowed ? 'block' : 'none';\n",
              "\n",
              "        async function convertToInteractive(key) {\n",
              "          const element = document.querySelector('#df-12ca1f75-bd6d-47a5-8ff5-fd4846a2c59f');\n",
              "          const dataTable =\n",
              "            await google.colab.kernel.invokeFunction('convertToInteractive',\n",
              "                                                     [key], {});\n",
              "          if (!dataTable) return;\n",
              "\n",
              "          const docLinkHtml = 'Like what you see? Visit the ' +\n",
              "            '<a target=\"_blank\" href=https://colab.research.google.com/notebooks/data_table.ipynb>data table notebook</a>'\n",
              "            + ' to learn more about interactive tables.';\n",
              "          element.innerHTML = '';\n",
              "          dataTable['output_type'] = 'display_data';\n",
              "          await google.colab.output.renderOutput(dataTable, element);\n",
              "          const docLink = document.createElement('div');\n",
              "          docLink.innerHTML = docLinkHtml;\n",
              "          element.appendChild(docLink);\n",
              "        }\n",
              "      </script>\n",
              "    </div>\n",
              "  </div>\n",
              "  "
            ]
          },
          "metadata": {},
          "execution_count": 17
        }
      ],
      "source": [
        "# Exibe as primeiras linhas do DataFrame\n",
        "df.head()"
      ]
    },
    {
      "cell_type": "markdown",
      "id": "354cc328",
      "metadata": {
        "id": "354cc328"
      },
      "source": [
        "### Remove linhas nulas"
      ]
    },
    {
      "cell_type": "code",
      "execution_count": null,
      "id": "29da2b9e",
      "metadata": {
        "id": "29da2b9e",
        "outputId": "a517ea5a-450d-42ee-f976-96636042c597",
        "colab": {
          "base_uri": "https://localhost:8080/"
        }
      },
      "outputs": [
        {
          "output_type": "execute_result",
          "data": {
            "text/plain": [
              "72134"
            ]
          },
          "metadata": {},
          "execution_count": 19
        }
      ],
      "source": [
        "# total de linhas do dataframe\n",
        "df.shape[0]"
      ]
    },
    {
      "cell_type": "code",
      "execution_count": null,
      "id": "b89dbbdf",
      "metadata": {
        "id": "b89dbbdf",
        "outputId": "24f558de-979c-42d0-b96d-9da05465382f",
        "colab": {
          "base_uri": "https://localhost:8080/"
        }
      },
      "outputs": [
        {
          "output_type": "execute_result",
          "data": {
            "text/plain": [
              "title    558\n",
              "text      39\n",
              "label      0\n",
              "dtype: int64"
            ]
          },
          "metadata": {},
          "execution_count": 23
        }
      ],
      "source": [
        "# O método \"isnull()\" verifica quais valores do DataFrame são nulos e\n",
        "# retorna um DataFrame de valores booleanos com a mesma forma\n",
        "\n",
        "# O método \"sum()\" soma os valores booleanos em cada coluna, contando quantos valores nulos existem\n",
        "\n",
        "\n",
        "df.isnull().sum()"
      ]
    },
    {
      "cell_type": "code",
      "execution_count": null,
      "id": "a3d4a947",
      "metadata": {
        "id": "a3d4a947",
        "outputId": "d280c3f4-0233-4848-84cd-000900cebf25",
        "colab": {
          "base_uri": "https://localhost:8080/"
        }
      },
      "outputs": [
        {
          "output_type": "execute_result",
          "data": {
            "text/plain": [
              "title    0\n",
              "text     0\n",
              "label    0\n",
              "dtype: int64"
            ]
          },
          "metadata": {},
          "execution_count": 25
        }
      ],
      "source": [
        "# Remove linhas nulas\n",
        "df = df.dropna()\n",
        "\n",
        "#exibe de novo pra gente conferir o que mudou\n",
        "df.isnull().sum()"
      ]
    },
    {
      "cell_type": "code",
      "execution_count": null,
      "id": "69eb02cb",
      "metadata": {
        "id": "69eb02cb",
        "outputId": "12ae0fc3-bbe9-4cfa-a474-505ee2c50ecf"
      },
      "outputs": [
        {
          "data": {
            "text/plain": [
              "71537"
            ]
          },
          "execution_count": 8,
          "metadata": {},
          "output_type": "execute_result"
        }
      ],
      "source": [
        "# total de linhas do dataframe\n",
        "df.shape[0]"
      ]
    },
    {
      "cell_type": "markdown",
      "id": "9e2f9ea0",
      "metadata": {
        "id": "9e2f9ea0"
      },
      "source": [
        "### Checa e remove linhas repetidas"
      ]
    },
    {
      "cell_type": "code",
      "execution_count": null,
      "id": "0ad71cb0",
      "metadata": {
        "id": "0ad71cb0",
        "outputId": "ac3e81d0-677e-4bac-a2e2-7472416f1b36",
        "colab": {
          "base_uri": "https://localhost:8080/"
        }
      },
      "outputs": [
        {
          "output_type": "execute_result",
          "data": {
            "text/plain": [
              "8416"
            ]
          },
          "metadata": {},
          "execution_count": 27
        }
      ],
      "source": [
        "# Encontra as linhas duplicadas usando o método \"duplicated\"\n",
        "df.duplicated().sum()"
      ]
    },
    {
      "cell_type": "code",
      "execution_count": null,
      "id": "52b5671a",
      "metadata": {
        "id": "52b5671a",
        "outputId": "baa78d39-d1e0-40d8-f89a-2a63f1aabc50"
      },
      "outputs": [
        {
          "data": {
            "text/plain": [
              "63121"
            ]
          },
          "execution_count": 10,
          "metadata": {},
          "output_type": "execute_result"
        }
      ],
      "source": [
        "# Remove as linhas duplicadas usando o método \"drop_duplicates\"\n",
        "df = df.drop_duplicates()\n",
        "\n",
        "#mostra o total de linhas na base de dados agora\n",
        "df.shape[0]"
      ]
    },
    {
      "cell_type": "markdown",
      "id": "e27a6030",
      "metadata": {
        "id": "e27a6030"
      },
      "source": [
        "### Existe equilíbrio no dataset?"
      ]
    },
    {
      "cell_type": "code",
      "execution_count": null,
      "id": "017d17e3",
      "metadata": {
        "id": "017d17e3",
        "outputId": "4bebaae0-aa17-4e94-c893-355ac611b8f1"
      },
      "outputs": [
        {
          "data": {
            "image/png": "[encoded data removed]",
            "text/plain": [
              "<Figure size 432x288 with 1 Axes>"
            ]
          },
          "metadata": {
            "needs_background": "light"
          },
          "output_type": "display_data"
        }
      ],
      "source": [
        "import matplotlib.pyplot as plt\n",
        "\n",
        "# Conta o número de ocorrências de cada rótulo\n",
        "label_count = df.label.value_counts()\n",
        "\n",
        "# Cria um gráfico de barras usando a Matplotlib\n",
        "plt.bar(label_count.index, label_count)\n",
        "\n",
        "# Define o título do gráfico\n",
        "plt.title('Distribuição de rótulos')\n",
        "\n",
        "# Define o nome do eixo x do gráfico\n",
        "plt.xlabel('Rótulo')\n",
        "\n",
        "# Define o nome do eixo y do gráfico\n",
        "plt.ylabel('Número de ocorrências')\n",
        "\n",
        "# Mostrar os rótulos corretamente no eixo x\n",
        "plt.xticks([0, 1], ['Fake', 'Real'])\n",
        "\n",
        "# Exibe o gráfico\n",
        "plt.show()"
      ]
    },
    {
      "cell_type": "code",
      "execution_count": null,
      "id": "7837370d",
      "metadata": {
        "id": "7837370d",
        "outputId": "711ca676-fba5-4552-9678-7058b3afe7a9"
      },
      "outputs": [
        {
          "name": "stdout",
          "output_type": "stream",
          "text": [
            "Total de rótulos Fake: 55.11794806799639\n",
            "Total de rótulos Real: 44.88205193200361\n"
          ]
        }
      ],
      "source": [
        "print(\"Total de rótulos Fake:\", 100 * label_count[0] / (label_count[0] + label_count[1]))\n",
        "print(\"Total de rótulos Real:\", 100 * label_count[1] / (label_count[0] + label_count[1]))\n",
        "\n",
        "# há um desbalanceamento aqui, que pode ser tratado com sobreamostragem, subamostragem dentre outras\n",
        "# técnicas"
      ]
    },
    {
      "cell_type": "markdown",
      "id": "124a8288",
      "metadata": {
        "id": "124a8288"
      },
      "source": [
        "## 2. TF-IDF\n",
        "\n",
        "Bag-of-words é uma abordagem simples para representar texto como um conjunto de características (features) ou tokens que podem ser usados em modelos de aprendizado de máquina. Apesar de ser amplamente utilizado e eficaz em muitos casos, ele tem algumas desvantagens:\n",
        "\n",
        "* Trata cada palavra como independente e ignora o <u>contexto</u> em que as palavras aparecem. Isso pode levar a resultados ruins ao lidar com frases ou expressões.\n",
        "\n",
        "* Ele trata todas as palavras <u>igualmente</u> (peso igual), mesmo que algumas palavras possam ser mais informativas ou discriminativas do que outras.\n",
        "\n",
        "* Ele pode ser sensível a <u>ruídos e pontos fora da curva</u>, já que não distingue entre palavras informativas e menos informativas.\n",
        "\n",
        "O TF-IDF (term frequency-inverse document frequency) lida com essas desvantagens. Ele atribui um peso a cada palavra em um documento baseado em sua frequência e raridade no corpus de documentos. Especificamente, o TF-IDF é calculado como o produto de dois valores:\n",
        "\n",
        "* Frequência do termo (TF): <u>quantas vezes o termo aparece em cada documento?</u>\n",
        "\n",
        "* Frequência inversa do documento (IDF): <u>uma medida de quão raro um termo é no corpus de documentos. Se um termo aparece pouco, então ele é mais informativo e acaba tendo mais peso. A ideia da fórmula é fazer com que caso um termo apareça muito ao longo de vários documentos, então esse valor precisa ser baixo.</u>\n",
        "\n",
        "O peso TF-IDF para um termo em um documento é o produto de seus valores TF e IDF. Atribuindo pesos mais altos a termos informativos e raros, o TF-IDF pode superar as desvantagens do modelo bag-of-words."
      ]
    },
    {
      "cell_type": "markdown",
      "id": "75361209",
      "metadata": {
        "id": "75361209"
      },
      "source": [
        "1. Frequência do Termo (TF): é o número de vezes em que um termo aparece em um documento. É calculado como:\n",
        "\n",
        "TF(t, d) = (número de vezes que o termo t aparece no documento d) / (número total de termos no documento d),\n",
        "\n",
        "onde t é o termo e d é o documento.\n",
        "\n",
        "2. Frequência Inversa do Documento (IDF): mede a raridade de um termo em todos os documentos em um corpus. <u>Se o termo for comum, seu valor se aproxima de 0. Caso contrário, se aproxima de 1</u>. É calculado como:\n",
        "\n",
        "IDF(t) = log_e(Número total de documentos / Número de documentos com o termo t)\n",
        "\n",
        "onde t é o termo e o logaritmo natural (log base e) é usado para reduzir o efeito da pontuação IDF para termos muito frequentes.\n",
        "\n",
        "3. TF-IDF: a pontuação TF-IDF de um termo em um documento é o produto de sua pontuação TF e pontuação IDF. É calculado como:\n",
        "\n",
        "TF-IDF(t, d) = TF(t, d) * IDF(t)\n",
        "\n",
        "onde t é o termo e d é o documento."
      ]
    },
    {
      "cell_type": "code",
      "execution_count": null,
      "id": "ec26f188",
      "metadata": {
        "id": "ec26f188",
        "outputId": "c6948eab-7a4f-4743-84df-b5f7bb84976e"
      },
      "outputs": [
        {
          "data": {
            "text/html": [
              "<div>\n",
              "<style scoped>\n",
              "    .dataframe tbody tr th:only-of-type {\n",
              "        vertical-align: middle;\n",
              "    }\n",
              "\n",
              "    .dataframe tbody tr th {\n",
              "        vertical-align: top;\n",
              "    }\n",
              "\n",
              "    .dataframe thead th {\n",
              "        text-align: right;\n",
              "    }\n",
              "</style>\n",
              "<table border=\"1\" class=\"dataframe\">\n",
              "  <thead>\n",
              "    <tr style=\"text-align: right;\">\n",
              "      <th></th>\n",
              "      <th>title</th>\n",
              "      <th>text</th>\n",
              "      <th>label</th>\n",
              "      <th>news</th>\n",
              "    </tr>\n",
              "  </thead>\n",
              "  <tbody>\n",
              "    <tr>\n",
              "      <th>0</th>\n",
              "      <td>LAW ENFORCEMENT ON HIGH ALERT Following Threat...</td>\n",
              "      <td>No comment is expected from Barack Obama Membe...</td>\n",
              "      <td>1</td>\n",
              "      <td>LAW ENFORCEMENT ON HIGH ALERT Following Threat...</td>\n",
              "    </tr>\n",
              "    <tr>\n",
              "      <th>2</th>\n",
              "      <td>UNBELIEVABLE! OBAMA’S ATTORNEY GENERAL SAYS MO...</td>\n",
              "      <td>Now, most of the demonstrators gathered last ...</td>\n",
              "      <td>1</td>\n",
              "      <td>UNBELIEVABLE! OBAMA’S ATTORNEY GENERAL SAYS MO...</td>\n",
              "    </tr>\n",
              "    <tr>\n",
              "      <th>3</th>\n",
              "      <td>Bobby Jindal, raised Hindu, uses story of Chri...</td>\n",
              "      <td>A dozen politically active pastors came here f...</td>\n",
              "      <td>0</td>\n",
              "      <td>Bobby Jindal, raised Hindu, uses story of Chri...</td>\n",
              "    </tr>\n",
              "    <tr>\n",
              "      <th>4</th>\n",
              "      <td>SATAN 2: Russia unvelis an image of its terrif...</td>\n",
              "      <td>The RS-28 Sarmat missile, dubbed Satan 2, will...</td>\n",
              "      <td>1</td>\n",
              "      <td>SATAN 2: Russia unvelis an image of its terrif...</td>\n",
              "    </tr>\n",
              "    <tr>\n",
              "      <th>5</th>\n",
              "      <td>About Time! Christian Group Sues Amazon and SP...</td>\n",
              "      <td>All we can say on this one is it s about time ...</td>\n",
              "      <td>1</td>\n",
              "      <td>About Time! Christian Group Sues Amazon and SP...</td>\n",
              "    </tr>\n",
              "  </tbody>\n",
              "</table>\n",
              "</div>"
            ],
            "text/plain": [
              "                                               title  \\\n",
              "0  LAW ENFORCEMENT ON HIGH ALERT Following Threat...   \n",
              "2  UNBELIEVABLE! OBAMA’S ATTORNEY GENERAL SAYS MO...   \n",
              "3  Bobby Jindal, raised Hindu, uses story of Chri...   \n",
              "4  SATAN 2: Russia unvelis an image of its terrif...   \n",
              "5  About Time! Christian Group Sues Amazon and SP...   \n",
              "\n",
              "                                                text  label  \\\n",
              "0  No comment is expected from Barack Obama Membe...      1   \n",
              "2   Now, most of the demonstrators gathered last ...      1   \n",
              "3  A dozen politically active pastors came here f...      0   \n",
              "4  The RS-28 Sarmat missile, dubbed Satan 2, will...      1   \n",
              "5  All we can say on this one is it s about time ...      1   \n",
              "\n",
              "                                                news  \n",
              "0  LAW ENFORCEMENT ON HIGH ALERT Following Threat...  \n",
              "2  UNBELIEVABLE! OBAMA’S ATTORNEY GENERAL SAYS MO...  \n",
              "3  Bobby Jindal, raised Hindu, uses story of Chri...  \n",
              "4  SATAN 2: Russia unvelis an image of its terrif...  \n",
              "5  About Time! Christian Group Sues Amazon and SP...  "
            ]
          },
          "execution_count": 13,
          "metadata": {},
          "output_type": "execute_result"
        }
      ],
      "source": [
        "from sklearn.feature_extraction.text import TfidfVectorizer #vetoriza usando TF-IDF\n",
        "\n",
        "#juntamos título e texto na mesma coluna\n",
        "# axis = 1 é concatenação horizontal\n",
        "#lambda: para cada linha, aplicamos a união de title e text, incluindo um espaço entre os dois\n",
        "df['news'] = pd.concat([df['title'], df['text']], axis=1).apply(lambda x: ' '.join(x), axis=1)\n",
        "\n",
        "df.head()"
      ]
    },
    {
      "cell_type": "markdown",
      "id": "4a8c4d1e",
      "metadata": {
        "id": "4a8c4d1e"
      },
      "source": [
        "### Alguns tratamentos como remoção de stopwords, lemmatização..."
      ]
    },
    {
      "cell_type": "code",
      "execution_count": null,
      "id": "e48c84b5",
      "metadata": {
        "id": "e48c84b5",
        "outputId": "833dfdd5-6167-41a9-a980-0e75e20ea1e9"
      },
      "outputs": [
        {
          "data": {
            "text/plain": [
              "0        LAW ENFORCEMENT ON HIGH ALERT Following Threat...\n",
              "2        UNBELIEVABLE! OBAMA’S ATTORNEY GENERAL SAYS MO...\n",
              "3        Bobby Jindal, raised Hindu, uses story Christi...\n",
              "4        SATAN 2: Russia unvelis image terrifying new ‘...\n",
              "5        About Time! Christian Group Sues Amazon SPLC D...\n",
              "                               ...                        \n",
              "72127    WIKILEAKS EMAIL SHOWS CLINTON FOUNDATION FUNDS...\n",
              "72129    Russians steal research Trump hack U.S. Democr...\n",
              "72130    WATCH: Giuliani Demands That Democrats Apologi...\n",
              "72131    Migrants Refuse To Leave Train At Refugee Camp...\n",
              "72132    Trump tussle gives unpopular Mexican leader mu...\n",
              "Name: news_no_stopwords, Length: 63121, dtype: object"
            ]
          },
          "execution_count": 14,
          "metadata": {},
          "output_type": "execute_result"
        }
      ],
      "source": [
        "import nltk\n",
        "from nltk.corpus import stopwords\n",
        "\n",
        "# Remove as palavras de parada (stop words) de cada notícia\n",
        "stop_words = set(stopwords.words('english'))\n",
        "df['news_no_stopwords'] = df['news'].apply(lambda x: ' '.join([word for word in x.split() if word not in stop_words]))\n",
        "\n",
        "df['news_no_stopwords']"
      ]
    },
    {
      "cell_type": "code",
      "execution_count": null,
      "id": "55b79564",
      "metadata": {
        "id": "55b79564",
        "outputId": "27a7c321-6c8c-4c17-ba11-d767a39f48a4"
      },
      "outputs": [
        {
          "data": {
            "text/plain": [
              "0         889\n",
              "2          52\n",
              "3        1337\n",
              "4         345\n",
              "5         257\n",
              "         ... \n",
              "72127     220\n",
              "72129     746\n",
              "72130     614\n",
              "72131     487\n",
              "72132     569\n",
              "Name: news, Length: 63121, dtype: int64"
            ]
          },
          "execution_count": 15,
          "metadata": {},
          "output_type": "execute_result"
        }
      ],
      "source": [
        "#total de palavras ANTES das stopwords\n",
        "df['news'].str.split().apply(len)"
      ]
    },
    {
      "cell_type": "code",
      "execution_count": null,
      "id": "121f4b19",
      "metadata": {
        "id": "121f4b19",
        "outputId": "112d8299-9db3-4e23-81fd-effd257f81ee"
      },
      "outputs": [
        {
          "data": {
            "text/plain": [
              "0        541\n",
              "2         40\n",
              "3        810\n",
              "4        233\n",
              "5        162\n",
              "        ... \n",
              "72127    145\n",
              "72129    493\n",
              "72130    353\n",
              "72131    298\n",
              "72132    366\n",
              "Name: news_no_stopwords, Length: 63121, dtype: int64"
            ]
          },
          "execution_count": 16,
          "metadata": {},
          "output_type": "execute_result"
        }
      ],
      "source": [
        "#total de palavras DEPOIS das stopwords\n",
        "df['news_no_stopwords'].str.split().apply(len)"
      ]
    },
    {
      "cell_type": "code",
      "execution_count": null,
      "id": "16d5d581",
      "metadata": {
        "id": "16d5d581"
      },
      "outputs": [],
      "source": [
        "from nltk.stem import WordNetLemmatizer\n",
        "\n",
        "# Reduz as palavras em cada notícia para sua forma canônica (lemmatization)\n",
        "lemmatizer = WordNetLemmatizer()\n",
        "df['news_lemmatized'] = df['news_no_stopwords'].apply(lambda x: ' '.join([lemmatizer.lemmatize(word) for word in x.split()]))"
      ]
    },
    {
      "cell_type": "code",
      "execution_count": null,
      "id": "fc4a16ee",
      "metadata": {
        "id": "fc4a16ee"
      },
      "outputs": [],
      "source": [
        "from sklearn.model_selection import train_test_split\n",
        "\n",
        "# Separa o conjunto de dados em conjuntos de treinamento e teste\n",
        "X_train, X_test, y_train, y_test = train_test_split(df['news_lemmatized'], df['label'], test_size=0.2)"
      ]
    },
    {
      "cell_type": "code",
      "execution_count": null,
      "id": "e5a4e42d",
      "metadata": {
        "id": "e5a4e42d"
      },
      "outputs": [],
      "source": [
        "# Vetoriza os dados de texto usando o TF-IDF\n",
        "tfidf_vectorizer = TfidfVectorizer()\n",
        "train_features = tfidf_vectorizer.fit_transform(X_train)\n",
        "test_features = tfidf_vectorizer.transform(X_test)"
      ]
    },
    {
      "cell_type": "code",
      "execution_count": null,
      "id": "ec9e133c",
      "metadata": {
        "id": "ec9e133c",
        "outputId": "8a5b268c-7935-4177-af2a-55bcaff19f24"
      },
      "outputs": [
        {
          "name": "stdout",
          "output_type": "stream",
          "text": [
            "Acurácia: 0.8784260139416984\n"
          ]
        }
      ],
      "source": [
        "from sklearn.naive_bayes import MultinomialNB\n",
        "\n",
        "# Cria um modelo de classificação Naive Bayes Multinomial e o treina com os dados de treinamento\n",
        "clf = MultinomialNB()\n",
        "clf.fit(train_features, y_train)\n",
        "\n",
        "# Avalia a acurácia do modelo nos dados de treino\n",
        "accuracy = clf.score(train_features, y_train)\n",
        "print(\"Acurácia:\", accuracy)"
      ]
    },
    {
      "cell_type": "code",
      "execution_count": null,
      "id": "08b7accc",
      "metadata": {
        "id": "08b7accc",
        "outputId": "1acd09a2-ab39-425a-b55b-47141f41f6d4"
      },
      "outputs": [
        {
          "name": "stdout",
          "output_type": "stream",
          "text": [
            "Acurácia: 0.8537029702970297\n"
          ]
        }
      ],
      "source": [
        "# Avalia a acurácia do modelo nos dados de teste\n",
        "accuracy = clf.score(test_features, y_test)\n",
        "print(\"Acurácia:\", accuracy)"
      ]
    },
    {
      "cell_type": "code",
      "execution_count": null,
      "id": "2f00c390",
      "metadata": {
        "id": "2f00c390",
        "outputId": "d9aa686e-cb01-454c-913b-5265e082948d"
      },
      "outputs": [
        {
          "name": "stdout",
          "output_type": "stream",
          "text": [
            "              precision    recall  f1-score   support\n",
            "\n",
            "        Fake       0.82      0.94      0.88      6955\n",
            "        Real       0.92      0.74      0.82      5670\n",
            "\n",
            "    accuracy                           0.85     12625\n",
            "   macro avg       0.87      0.84      0.85     12625\n",
            "weighted avg       0.86      0.85      0.85     12625\n",
            "\n"
          ]
        }
      ],
      "source": [
        "from sklearn.metrics import classification_report\n",
        "\n",
        "# Faz a predição no conjunto de teste\n",
        "y_pred = clf.predict(test_features)\n",
        "\n",
        "# calcula as métricas de classificação\n",
        "report = classification_report(y_test, y_pred, target_names=['Fake', 'Real'])\n",
        "\n",
        "# imprime o relatório\n",
        "print(report)"
      ]
    },
    {
      "cell_type": "markdown",
      "id": "1ce47aeb",
      "metadata": {
        "id": "1ce47aeb"
      },
      "source": [
        "### Precision:\n",
        "a proporção de verdadeiros positivos (TP) entre o total de resultados classificados como positivos (TP + FP). No caso de notícias falsas, a precisão é de 0.82, ou seja, 82% das notícias classificadas como falsas pelo modelo realmente são falsas. Para notícias verdadeiras, a precisão é de 0.92, ou seja, 92% das notícias classificadas como verdadeiras pelo modelo realmente são verdadeiras.\n",
        "\n",
        "* TP = Notícias verdadeiras classificadas como verdadeiras\n",
        "* FP = Fake news classificadas incorretamente como verdadeiras"
      ]
    },
    {
      "cell_type": "markdown",
      "id": "220c00fc",
      "metadata": {
        "id": "220c00fc"
      },
      "source": [
        "### Recall:\n",
        "a proporção de verdadeiros positivos (TP) entre o total de exemplos positivos (TP + FN). No caso de notícias falsas, o recall é de 0.94, ou seja, o modelo consegue detectar 94% das notícias falsas presentes no conjunto de dados. Para notícias verdadeiras, o recall é de 0.74, ou seja, o modelo consegue detectar apenas 74% das notícias verdadeiras presentes no conjunto de dados.\n",
        "\n",
        "* FN = Notícias verdadeiras classificadas incorretamente como fake"
      ]
    },
    {
      "cell_type": "markdown",
      "id": "de27a32c",
      "metadata": {
        "id": "de27a32c"
      },
      "source": [
        "### F1-score:\n",
        "medida que combina precisão e recall, permitindo avaliar o desempenho de um modelo de classificação em relação às duas classes (verdadeiro e falso, neste caso).\n",
        "\n",
        "Um valor de F1-score de 0.82 para notícias verdadeiras significa que o modelo tem um bom equilíbrio entre precisão e recall na classificação de notícias verdadeiras. Isso indica que o modelo é capaz de identificar corretamente a maioria das notícias verdadeiras, enquanto minimiza o número de falsos negativos.\n",
        "\n",
        "Já um valor de F1-score de 0.88 para notícias falsas indica um desempenho um pouco melhor na classificação de notícias falsas em comparação com as verdadeiras. Isso pode ser interpretado como uma maior capacidade do modelo em identificar notícias falsas, enquanto ainda consegue minimizar o número de falsos positivos."
      ]
    },
    {
      "cell_type": "markdown",
      "id": "1254b452",
      "metadata": {
        "id": "1254b452"
      },
      "source": [
        "# Cross Validation"
      ]
    },
    {
      "cell_type": "code",
      "execution_count": null,
      "id": "49bc2cf2",
      "metadata": {
        "id": "49bc2cf2",
        "outputId": "06f289f2-53a6-4791-c859-3f08e54ebf70"
      },
      "outputs": [
        {
          "name": "stdout",
          "output_type": "stream",
          "text": [
            "Métricas para a classe 0:\n",
            "Acurácia média: 0.8540081882433217\n",
            "Precisão média: 0.8155469803738266\n",
            "Recall médio: 0.9501005708413082\n",
            "F1-score médio: 0.8776860497945081\n",
            "\n",
            "Métricas para a classe 1:\n",
            "Acurácia média: 0.8540081882433217\n",
            "Precisão média: 0.9231143797729773\n",
            "Recall médio: 0.7359664607237424\n",
            "F1-score médio: 0.8189525370862736\n"
          ]
        }
      ],
      "source": [
        "from sklearn.model_selection import cross_validate\n",
        "from sklearn.metrics import make_scorer, accuracy_score, precision_score, recall_score, f1_score\n",
        "\n",
        "# Recria o classificador\n",
        "clf = MultinomialNB()\n",
        "\n",
        "# Define as métricas que deseja calcular\n",
        "scoring = {\n",
        "    'accuracy': make_scorer(accuracy_score),\n",
        "    'precision_0': make_scorer(precision_score, average='binary', pos_label=0),\n",
        "    'recall_0': make_scorer(recall_score, average='binary', pos_label=0),\n",
        "    'f1_score_0': make_scorer(f1_score, average='binary', pos_label=0),\n",
        "    'precision_1': make_scorer(precision_score, average='binary', pos_label=1),\n",
        "    'recall_1': make_scorer(recall_score, average='binary', pos_label=1),\n",
        "    'f1_score_1': make_scorer(f1_score, average='binary', pos_label=1)\n",
        "}\n",
        "\n",
        "# Aplica a validação cruzada e calcula as métricas para cada fold\n",
        "scores = cross_validate(clf, train_features, y_train, cv=5, scoring=scoring)\n",
        "\n",
        "# Imprime as métricas médias e desvio padrão para cada fold\n",
        "print(\"Métricas para a classe 0:\")\n",
        "print(\"Acurácia média:\", scores['test_accuracy'].mean())\n",
        "print(\"Precisão média:\", scores['test_precision_0'].mean())\n",
        "print(\"Recall médio:\", scores['test_recall_0'].mean())\n",
        "print(\"F1-score médio:\", scores['test_f1_score_0'].mean())\n",
        "\n",
        "print(\"\\nMétricas para a classe 1:\")\n",
        "print(\"Acurácia média:\", scores['test_accuracy'].mean())\n",
        "print(\"Precisão média:\", scores['test_precision_1'].mean())\n",
        "print(\"Recall médio:\", scores['test_recall_1'].mean())\n",
        "print(\"F1-score médio:\", scores['test_f1_score_1'].mean())"
      ]
    },
    {
      "cell_type": "markdown",
      "id": "4cc343f1",
      "metadata": {
        "id": "4cc343f1"
      },
      "source": [
        "# Referências\n",
        "\n",
        "* ChatGPT\n",
        "* https://www.udemy.com/course/natural-language-processing-in-python/\n",
        "* https://www.youtube.com/watch?v=5MaWmXwxFNQ\n",
        "* https://www.youtube.com/watch?v=ATK6fm3cYfI&list=PLeo1K3hjS3uuvuAXhYjV2lMEShq2UYSwX&index=18\n",
        "* https://en.wikipedia.org/wiki/Precision_and_recall\n",
        "* https://scikit-learn.org/stable/modules/generated/sklearn.metrics.make_scorer.html"
      ]
    }
  ],
  "metadata": {
    "kernelspec": {
      "display_name": "tf",
      "language": "python",
      "name": "tf"
    },
    "language_info": {
      "codemirror_mode": {
        "name": "ipython",
        "version": 3
      },
      "file_extension": ".py",
      "mimetype": "text/x-python",
      "name": "python",
      "nbconvert_exporter": "python",
      "pygments_lexer": "ipython3",
      "version": "3.9.16"
    },
    "colab": {
      "provenance": []
    }
  },
  "nbformat": 4,
  "nbformat_minor": 5
}